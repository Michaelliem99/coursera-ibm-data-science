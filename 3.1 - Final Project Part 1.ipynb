{
    "nbformat_minor": 2, 
    "cells": [
        {
            "source": "# Jakarta Living Area Recommendation Part 1", 
            "cell_type": "markdown", 
            "metadata": {}
        }, 
        {
            "source": "Table of Content:\n1. [Introduction](#1.-Introduction)\n2. [Data](#2.-Data)", 
            "cell_type": "markdown", 
            "metadata": {}
        }, 
        {
            "source": "# 1. Introduction", 
            "cell_type": "markdown", 
            "metadata": {}
        }, 
        {
            "source": "Jakarta is the capital city and largest city of Indonesia with more than 10 million population per 2019. Greater Jakarta area or Jabodetabek has 30 million population, 2nd most populated area in the world after Greater Tokyo area. Jakarta is divided to 44 different districts, 2 of them in Kepulauan Seribu Regency, a regency with 342 island, situated 70 km north of Jakarta core area.\n\nSometimes, it is hard for people to find a good area to live in Jakarta. So, I am thinking of doing a recommendation for users who wanted to find the best district to live at. The recommendation will be based on the user's interest. User will input the venue categories they want to have around their potential living district.\n\nI will also use the district population data as the feature. I actually wanted to use the land value in each district for another feature too, but I can't find any available data about it.\n\nDistrict population data is available online and I can download it directly, but for the property sales value, I need to form my own dataset based on Jakarta Government Regulation Number 24 Year 2018, it means I need to gather the data from approximately 6000 pdf pages then convert them manually to excel data. It is too much work for me so I will skip it for now.\n\nI will use Jakarta district area size too. Divide each population by the district size and we will get the density of each district. Those density will be categorized as 'Low Density', 'Medium Density' and 'High Density'.\n\nThe recommendation will calculate the area with the most venue frequency that match the category determined by the user. For example, user A wants to have Japanese restaurant, Chinese restaurant, mall, and school around their living area with low density, on the other hand district X have 3 Japanese restaurants, 6 Chinese restaurants, 2 malls, and 3 schools, but it is high density area then the total frequency is 3 + 6 + 2 + 3  = 14.\n\nThe result given to the user is top 7 district to live in.", 
            "cell_type": "markdown", 
            "metadata": {}
        }, 
        {
            "source": "# 2. Data", 
            "cell_type": "markdown", 
            "metadata": {}
        }, 
        {
            "source": "Here is the list of data I use in this project:\n- I used Jakarta population dataset to make a choropleth map about each district population distribution, data is taken from [Jakarta OpenData](http://data.jakarta.go.id/sr/dataset/jumlahpendudukmenurutkecamatandanjeniskelamindkijakarta).\n- I used Jakarta district size dataset to calculate the density of each district and then categorize each district as 'Low Density', 'Medium Density', and 'High Density', data is taken from [Jakarta OpenData](http://data.jakarta.go.id/dataset/luas-wilayah-dan-kepadatan-provinsi-dki-jakarta-tahun-2015).\n- I used Foursquare API data to find venues/places available around each district.\n- Jakarta GeoJSON file of each district boundaries for choropleth map is taken from [GIS BPBD DKI Jakarta](http://gis.bpbd.jakarta.go.id/layers/geonode%3Adki_kecamatan).", 
            "cell_type": "markdown", 
            "metadata": {}
        }, 
        {
            "source": "This is the end of my Data Science Capstone Final Project part 1 notebook.\n\nThanks for reading.", 
            "cell_type": "markdown", 
            "metadata": {}
        }
    ], 
    "metadata": {
        "kernelspec": {
            "display_name": "Python 3.6", 
            "name": "python3", 
            "language": "python"
        }, 
        "language_info": {
            "mimetype": "text/x-python", 
            "nbconvert_exporter": "python", 
            "version": "3.6.8", 
            "name": "python", 
            "file_extension": ".py", 
            "pygments_lexer": "ipython3", 
            "codemirror_mode": {
                "version": 3, 
                "name": "ipython"
            }
        }
    }, 
    "nbformat": 4
}